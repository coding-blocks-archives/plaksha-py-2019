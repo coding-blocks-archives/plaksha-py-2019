{
 "cells": [
  {
   "cell_type": "code",
   "execution_count": 2,
   "metadata": {},
   "outputs": [
    {
     "name": "stdout",
     "output_type": "stream",
     "text": [
      "Requirement already satisfied: Flask in /usr/local/lib/python3.7/site-packages (1.1.1)\n",
      "Requirement already satisfied: click>=5.1 in /usr/local/lib/python3.7/site-packages (from Flask) (7.0)\n",
      "Requirement already satisfied: Werkzeug>=0.15 in /usr/local/lib/python3.7/site-packages (from Flask) (0.16.0)\n",
      "Requirement already satisfied: Jinja2>=2.10.1 in /usr/local/lib/python3.7/site-packages (from Flask) (2.10.3)\n",
      "Requirement already satisfied: itsdangerous>=0.24 in /usr/local/lib/python3.7/site-packages (from Flask) (1.1.0)\n",
      "Requirement already satisfied: MarkupSafe>=0.23 in /usr/local/lib/python3.7/site-packages (from Jinja2>=2.10.1->Flask) (1.1.0)\n"
     ]
    }
   ],
   "source": [
    "! python3 -m pip install Flask"
   ]
  },
  {
   "cell_type": "code",
   "execution_count": 46,
   "metadata": {},
   "outputs": [],
   "source": [
    "from flask import Flask, render_template, request"
   ]
  },
  {
   "cell_type": "code",
   "execution_count": 47,
   "metadata": {},
   "outputs": [],
   "source": [
    "app = Flask(\"My-app\")"
   ]
  },
  {
   "cell_type": "code",
   "execution_count": 48,
   "metadata": {},
   "outputs": [],
   "source": [
    "@app.route(\"/\")\n",
    "def welcome():\n",
    "    return \"Welcome to plaksha\"\n",
    "\n",
    "@app.route(\"/webpage\")\n",
    "def page():\n",
    "    return render_template(\"chacha.taya\")\n",
    "\n",
    "\n",
    "@app.route(\"/submit\", methods=[\"post\"])\n",
    "def submit_form():\n",
    "    fname = request.form[\"firstname\"]\n",
    "    sname = request.form[\"lastname\"]\n",
    "    return fname + \" ----- \" + sname"
   ]
  },
  {
   "cell_type": "code",
   "execution_count": null,
   "metadata": {},
   "outputs": [
    {
     "name": "stdout",
     "output_type": "stream",
     "text": [
      " * Serving Flask app \"My-app\" (lazy loading)\n",
      " * Environment: production\n",
      "   WARNING: This is a development server. Do not use it in a production deployment.\n",
      "   Use a production WSGI server instead.\n",
      " * Debug mode: off\n"
     ]
    },
    {
     "name": "stderr",
     "output_type": "stream",
     "text": [
      " * Running on http://127.0.0.1:5000/ (Press CTRL+C to quit)\n",
      "127.0.0.1 - - [05/Nov/2019 14:44:17] \"\u001b[37mGET /webpage HTTP/1.1\u001b[0m\" 200 -\n",
      "127.0.0.1 - - [05/Nov/2019 14:44:32] \"\u001b[37mPOST /submit HTTP/1.1\u001b[0m\" 200 -\n",
      "127.0.0.1 - - [05/Nov/2019 14:45:47] \"\u001b[37mPOST /submit HTTP/1.1\u001b[0m\" 200 -\n"
     ]
    }
   ],
   "source": [
    "app.run()"
   ]
  },
  {
   "cell_type": "code",
   "execution_count": null,
   "metadata": {},
   "outputs": [],
   "source": []
  },
  {
   "cell_type": "code",
   "execution_count": null,
   "metadata": {},
   "outputs": [],
   "source": []
  }
 ],
 "metadata": {
  "kernelspec": {
   "display_name": "Python 3",
   "language": "python",
   "name": "python3"
  },
  "language_info": {
   "codemirror_mode": {
    "name": "ipython",
    "version": 3
   },
   "file_extension": ".py",
   "mimetype": "text/x-python",
   "name": "python",
   "nbconvert_exporter": "python",
   "pygments_lexer": "ipython3",
   "version": "3.7.2"
  }
 },
 "nbformat": 4,
 "nbformat_minor": 4
}
