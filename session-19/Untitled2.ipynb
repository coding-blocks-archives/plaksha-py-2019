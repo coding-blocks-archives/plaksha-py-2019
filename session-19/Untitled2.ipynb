{
 "cells": [
  {
   "cell_type": "code",
   "execution_count": 1,
   "metadata": {},
   "outputs": [],
   "source": [
    "import pickle\n",
    "\n",
    "with open(\"model.pkl\", \"rb\") as model_pk:\n",
    "    model = pickle.load(model_pk)\n",
    "\n",
    "type(model)\n",
    "\n",
    "with open(\"vectorizer.pkl\", \"rb\") as vectorizer_pk:\n",
    "    vectorizer = pickle.load(vectorizer_pk)\n",
    "\n",
    "def predict(sent):\n",
    "    vec = vectorizer.transform([sent]).todense()\n",
    "    return model.predict(vec)[0]\n"
   ]
  },
  {
   "cell_type": "code",
   "execution_count": null,
   "metadata": {},
   "outputs": [],
   "source": []
  }
 ],
 "metadata": {
  "kernelspec": {
   "display_name": "Python 3",
   "language": "python",
   "name": "python3"
  },
  "language_info": {
   "codemirror_mode": {
    "name": "ipython",
    "version": 3
   },
   "file_extension": ".py",
   "mimetype": "text/x-python",
   "name": "python",
   "nbconvert_exporter": "python",
   "pygments_lexer": "ipython3",
   "version": "3.7.2"
  }
 },
 "nbformat": 4,
 "nbformat_minor": 4
}
