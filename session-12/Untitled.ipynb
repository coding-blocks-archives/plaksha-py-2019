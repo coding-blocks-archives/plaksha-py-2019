{
 "cells": [
  {
   "cell_type": "code",
   "execution_count": 11,
   "metadata": {},
   "outputs": [
    {
     "name": "stdout",
     "output_type": "stream",
     "text": [
      "298 ms ± 12.9 ms per loop (mean ± std. dev. of 7 runs, 1 loop each)\n",
      "39.3 ns ± 0.389 ns per loop (mean ± std. dev. of 7 runs, 10000000 loops each)\n",
      "6.73 ms ± 65.4 µs per loop (mean ± std. dev. of 7 runs, 100 loops each)\n"
     ]
    }
   ],
   "source": [
    "import pandas as pd\n",
    "import numpy as np\n",
    "\n",
    "s = pd.Series([1, 4, 7, 9, np.nan])\n",
    "\n",
    "s\n",
    "\n",
    "\n",
    "\n",
    "%timeit l = list(range(10000000))\n",
    "\n",
    "%timeit l[3] = 5\n",
    "\n",
    "%timeit l[3:5] = [5]\n",
    "\n"
   ]
  },
  {
   "cell_type": "code",
   "execution_count": null,
   "metadata": {},
   "outputs": [],
   "source": []
  }
 ],
 "metadata": {
  "kernelspec": {
   "display_name": "Python 3",
   "language": "python",
   "name": "python3"
  },
  "language_info": {
   "codemirror_mode": {
    "name": "ipython",
    "version": 3
   },
   "file_extension": ".py",
   "mimetype": "text/x-python",
   "name": "python",
   "nbconvert_exporter": "python",
   "pygments_lexer": "ipython3",
   "version": "3.7.2"
  }
 },
 "nbformat": 4,
 "nbformat_minor": 2
}
