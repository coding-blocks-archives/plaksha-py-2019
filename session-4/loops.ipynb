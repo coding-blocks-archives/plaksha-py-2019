{
 "cells": [
  {
   "cell_type": "code",
   "execution_count": 1,
   "metadata": {},
   "outputs": [
    {
     "name": "stdout",
     "output_type": "stream",
     "text": [
      "clap\n",
      "clap\n",
      "clap\n",
      "clap\n",
      "jump\n",
      "clap\n",
      "clap\n",
      "clap\n",
      "clap\n",
      "jump\n",
      "clap\n",
      "clap\n",
      "clap\n",
      "clap\n",
      "jump\n",
      "clap\n",
      "clap\n",
      "clap\n",
      "clap\n",
      "jump\n"
     ]
    }
   ],
   "source": [
    "n = 4\n",
    "\n",
    "lines = 0\n",
    "\n",
    "while lines < n:\n",
    "\n",
    "    clap = 0\n",
    "    while clap < n:\n",
    "        print(\"clap\")\n",
    "        clap = clap + 1\n",
    "\n",
    "    print(\"jump\")\n",
    "    \n",
    "    lines = lines + 1"
   ]
  },
  {
   "cell_type": "code",
   "execution_count": 12,
   "metadata": {},
   "outputs": [
    {
     "name": "stdout",
     "output_type": "stream",
     "text": [
      "* * * * * * * * \n",
      "* * * * * * * * \n",
      "* * * * * * * * \n",
      "* * * * * * * * \n",
      "* * * * * * * * \n",
      "* * * * * * * * \n",
      "* * * * * * * * \n",
      "* * * * * * * * \n"
     ]
    }
   ],
   "source": [
    "n = 8\n",
    "\n",
    "lines = 0\n",
    "\n",
    "while lines < n:\n",
    "\n",
    "    clap = 0\n",
    "    while clap < n:\n",
    "        print(\"* \", end=\"\", )\n",
    "        clap = clap + 1\n",
    "\n",
    "    print(\"\")\n",
    "    \n",
    "    lines = lines + 1"
   ]
  },
  {
   "cell_type": "code",
   "execution_count": 9,
   "metadata": {},
   "outputs": [
    {
     "name": "stdout",
     "output_type": "stream",
     "text": [
      "hello-------world-------i-------am\n"
     ]
    }
   ],
   "source": [
    "print(\"hello\", \"world\", \"i\", \"am\", sep=\"-------\")"
   ]
  },
  {
   "cell_type": "code",
   "execution_count": 10,
   "metadata": {},
   "outputs": [],
   "source": [
    "print?"
   ]
  },
  {
   "cell_type": "code",
   "execution_count": 14,
   "metadata": {},
   "outputs": [
    {
     "name": "stdout",
     "output_type": "stream",
     "text": [
      "* * * * * * * * \n",
      "* * * * * * * \n",
      "* * * * * * \n",
      "* * * * * \n",
      "* * * * \n",
      "* * * \n",
      "* * \n",
      "* \n"
     ]
    }
   ],
   "source": [
    "n = 8\n",
    "\n",
    "lines = 0\n",
    "\n",
    "while lines < n:\n",
    "\n",
    "    clap = 0\n",
    "    while clap < n - lines:\n",
    "        print(\"* \", end=\"\", )\n",
    "        clap = clap + 1\n",
    "\n",
    "    print(\"\")\n",
    "    \n",
    "    lines = lines + 1"
   ]
  },
  {
   "cell_type": "code",
   "execution_count": 20,
   "metadata": {},
   "outputs": [
    {
     "name": "stdout",
     "output_type": "stream",
     "text": [
      "* * * * \n",
      "* * * \n",
      "* * \n",
      "* \n",
      "* * \n",
      "* * * \n",
      "* * * * \n"
     ]
    }
   ],
   "source": [
    "n = 4\n",
    "\n",
    "rows = 0\n",
    "\n",
    "h_mir = 0\n",
    "\n",
    "while h_mir < 2 * n - 1:\n",
    "\n",
    "    cols = 0\n",
    "    while cols < n - rows:\n",
    "        print(\"* \", end=\"\", )\n",
    "        cols = cols + 1\n",
    "\n",
    "    print(\"\")\n",
    "    \n",
    "    if h_mir < n - 1:\n",
    "        rows = rows + 1\n",
    "    else:\n",
    "        rows = rows - 1\n",
    "    \n",
    "    h_mir = h_mir + 1"
   ]
  },
  {
   "cell_type": "code",
   "execution_count": 22,
   "metadata": {},
   "outputs": [
    {
     "name": "stdout",
     "output_type": "stream",
     "text": [
      "*       \n",
      "* *     \n",
      "* * *   \n",
      "* * * * \n",
      "* * *   \n",
      "* *     \n",
      "*       \n"
     ]
    }
   ],
   "source": [
    "n = 4\n",
    "\n",
    "rows = 0\n",
    "\n",
    "h_mir = 0\n",
    "\n",
    "while h_mir < 2 * n - 1:\n",
    "\n",
    "    cols = 0\n",
    "    while cols < n:\n",
    "        if cols <= rows:\n",
    "            print(\"* \", end=\"\", )\n",
    "        else:\n",
    "            print(\"  \", end=\"\", )\n",
    "        cols = cols + 1\n",
    "\n",
    "    print(\"\")\n",
    "    \n",
    "    if h_mir < n - 1:\n",
    "        rows = rows + 1\n",
    "    else:\n",
    "        rows = rows - 1\n",
    "    \n",
    "    h_mir = h_mir + 1"
   ]
  },
  {
   "cell_type": "code",
   "execution_count": 30,
   "metadata": {},
   "outputs": [
    {
     "name": "stdout",
     "output_type": "stream",
     "text": [
      "1 2 3 4 5 4 3 2 1 \n",
      "1 2 3 4   4 3 2 1 \n",
      "1 2 3       3 2 1 \n",
      "1 2           2 1 \n",
      "1               1 \n",
      "1 2           2 1 \n",
      "1 2 3       3 2 1 \n",
      "1 2 3 4   4 3 2 1 \n",
      "1 2 3 4 5 4 3 2 1 \n"
     ]
    }
   ],
   "source": [
    "n = 5\n",
    "\n",
    "rows = 0\n",
    "\n",
    "h_mir = 0\n",
    "\n",
    "while h_mir < 2 * n - 1:\n",
    "    \n",
    "    v_mir = 0\n",
    "    cols = 0\n",
    "    while v_mir < 2 * n - 1:\n",
    "        if cols < n - rows:\n",
    "            print(str(cols+1) +\" \", end=\"\", )\n",
    "        else:\n",
    "            print(\"  \", end=\"\", )\n",
    "        \n",
    "        if v_mir < n - 1:\n",
    "            cols = cols + 1\n",
    "        else:\n",
    "            cols = cols - 1\n",
    "        \n",
    "        v_mir = v_mir + 1\n",
    "\n",
    "    print(\"\")\n",
    "    \n",
    "    if h_mir < n - 1:\n",
    "        rows = rows + 1\n",
    "    else:\n",
    "        rows = rows - 1\n",
    "    \n",
    "    h_mir = h_mir + 1"
   ]
  },
  {
   "cell_type": "code",
   "execution_count": null,
   "metadata": {},
   "outputs": [],
   "source": []
  }
 ],
 "metadata": {
  "kernelspec": {
   "display_name": "Python 3",
   "language": "python",
   "name": "python3"
  },
  "language_info": {
   "codemirror_mode": {
    "name": "ipython",
    "version": 3
   },
   "file_extension": ".py",
   "mimetype": "text/x-python",
   "name": "python",
   "nbconvert_exporter": "python",
   "pygments_lexer": "ipython3",
   "version": "3.7.2"
  }
 },
 "nbformat": 4,
 "nbformat_minor": 2
}
