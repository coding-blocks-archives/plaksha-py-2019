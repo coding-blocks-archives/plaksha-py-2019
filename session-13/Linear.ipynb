{
 "cells": [
  {
   "cell_type": "code",
   "execution_count": 97,
   "metadata": {},
   "outputs": [],
   "source": [
    "from sklearn.datasets import make_regression\n",
    "import numpy as np\n",
    "import matplotlib.pyplot as plt"
   ]
  },
  {
   "cell_type": "code",
   "execution_count": 153,
   "metadata": {},
   "outputs": [],
   "source": [
    "X, y, coef = make_regression(n_features=1, coef=True, noise=20, random_state=4)"
   ]
  },
  {
   "cell_type": "code",
   "execution_count": 154,
   "metadata": {},
   "outputs": [
    {
     "data": {
      "text/plain": [
       "array([[-1.3474603 ],\n",
       "       [ 0.3523434 ],\n",
       "       [ 0.9546986 ],\n",
       "       [ 0.03592805],\n",
       "       [ 0.04800625],\n",
       "       [ 0.04860301],\n",
       "       [ 0.72334161],\n",
       "       [ 0.80208661],\n",
       "       [-1.14379857],\n",
       "       [ 0.17941071],\n",
       "       [-0.64770677],\n",
       "       [-1.11281215],\n",
       "       [-1.58457724],\n",
       "       [-0.08798693],\n",
       "       [ 2.47658416],\n",
       "       [-0.7322647 ],\n",
       "       [ 1.54697933],\n",
       "       [-0.13070464],\n",
       "       [ 0.30044554],\n",
       "       [-0.9443686 ],\n",
       "       [-0.30296397],\n",
       "       [-0.37444492],\n",
       "       [-1.15681626],\n",
       "       [ 0.59857517],\n",
       "       [-2.37977527],\n",
       "       [-0.60768369],\n",
       "       [ 0.54245131],\n",
       "       [ 2.02240507],\n",
       "       [ 0.04613557],\n",
       "       [ 0.52324766],\n",
       "       [ 0.29714121],\n",
       "       [-1.54292905],\n",
       "       [ 1.69235772],\n",
       "       [ 0.20931349],\n",
       "       [-0.41830152],\n",
       "       [ 0.87084178],\n",
       "       [-1.14747663],\n",
       "       [-0.17521053],\n",
       "       [-0.9617768 ],\n",
       "       [ 0.1886462 ],\n",
       "       [ 1.20200259],\n",
       "       [ 1.99008302],\n",
       "       [-1.36096559],\n",
       "       [-0.05455871],\n",
       "       [ 1.16418756],\n",
       "       [-1.45553433],\n",
       "       [ 0.01908996],\n",
       "       [-0.77873992],\n",
       "       [ 0.03754749],\n",
       "       [-0.34610187],\n",
       "       [-0.65122583],\n",
       "       [ 0.15846954],\n",
       "       [-1.20894816],\n",
       "       [-0.64764453],\n",
       "       [ 0.91484096],\n",
       "       [-1.84087587],\n",
       "       [ 0.49995133],\n",
       "       [ 1.27181862],\n",
       "       [ 0.69359851],\n",
       "       [ 0.55618522],\n",
       "       [ 0.4250724 ],\n",
       "       [-1.09712188],\n",
       "       [-0.5648753 ],\n",
       "       [ 0.35099715],\n",
       "       [ 0.83783635],\n",
       "       [ 0.05443274],\n",
       "       [-0.0093601 ],\n",
       "       [-2.35807363],\n",
       "       [-0.98299165],\n",
       "       [ 0.93465006],\n",
       "       [ 0.79523395],\n",
       "       [ 0.50991978],\n",
       "       [-0.17146461],\n",
       "       [ 0.15989294],\n",
       "       [ 2.22336022],\n",
       "       [ 0.33225315],\n",
       "       [ 0.05056171],\n",
       "       [-0.52819607],\n",
       "       [ 0.43027133],\n",
       "       [ 1.63574754],\n",
       "       [ 0.78660228],\n",
       "       [-0.60688728],\n",
       "       [ 0.39429521],\n",
       "       [ 0.7965119 ],\n",
       "       [-1.07529009],\n",
       "       [-0.19674528],\n",
       "       [ 0.8365287 ],\n",
       "       [-0.49581852],\n",
       "       [ 1.3799201 ],\n",
       "       [ 0.067471  ],\n",
       "       [-0.99590893],\n",
       "       [-0.90543814],\n",
       "       [-0.27620335],\n",
       "       [ 0.24266016],\n",
       "       [ 0.50977885],\n",
       "       [ 0.33225003],\n",
       "       [-1.10558404],\n",
       "       [ 2.08787087],\n",
       "       [ 0.28086468],\n",
       "       [ 0.61866969]])"
      ]
     },
     "execution_count": 154,
     "metadata": {},
     "output_type": "execute_result"
    }
   ],
   "source": [
    "X"
   ]
  },
  {
   "cell_type": "code",
   "execution_count": 155,
   "metadata": {},
   "outputs": [
    {
     "data": {
      "text/plain": [
       "<matplotlib.collections.PathCollection at 0x11dd65e10>"
      ]
     },
     "execution_count": 155,
     "metadata": {},
     "output_type": "execute_result"
    },
    {
     "data": {
      "image/png": "[encoded data removed]",
      "text/plain": [
       "<Figure size 432x288 with 1 Axes>"
      ]
     },
     "metadata": {
      "needs_background": "light"
     },
     "output_type": "display_data"
    }
   ],
   "source": [
    "plt.scatter(X, y)"
   ]
  },
  {
   "cell_type": "code",
   "execution_count": 156,
   "metadata": {},
   "outputs": [],
   "source": [
    "from sklearn.linear_model import LinearRegression"
   ]
  },
  {
   "cell_type": "code",
   "execution_count": 157,
   "metadata": {},
   "outputs": [],
   "source": [
    "model = LinearRegression()"
   ]
  },
  {
   "cell_type": "code",
   "execution_count": 158,
   "metadata": {},
   "outputs": [
    {
     "data": {
      "text/plain": [
       "LinearRegression(copy_X=True, fit_intercept=True, n_jobs=None,\n",
       "         normalize=False)"
      ]
     },
     "execution_count": 158,
     "metadata": {},
     "output_type": "execute_result"
    }
   ],
   "source": [
    "model.fit(X, y)"
   ]
  },
  {
   "cell_type": "code",
   "execution_count": 159,
   "metadata": {},
   "outputs": [],
   "source": [
    "x_sample = np.linspace(-3, 3, 2)"
   ]
  },
  {
   "cell_type": "code",
   "execution_count": 160,
   "metadata": {},
   "outputs": [],
   "source": [
    "y_sample = model.predict(x_sample.reshape(-1, 1))"
   ]
  },
  {
   "cell_type": "code",
   "execution_count": 161,
   "metadata": {},
   "outputs": [
    {
     "data": {
      "text/plain": [
       "array([-225.23268772,  224.3683842 ])"
      ]
     },
     "execution_count": 161,
     "metadata": {},
     "output_type": "execute_result"
    }
   ],
   "source": [
    "y_sample"
   ]
  },
  {
   "cell_type": "code",
   "execution_count": 162,
   "metadata": {},
   "outputs": [
    {
     "data": {
      "text/plain": [
       "[<matplotlib.lines.Line2D at 0x11dd6cba8>]"
      ]
     },
     "execution_count": 162,
     "metadata": {},
     "output_type": "execute_result"
    },
    {
     "data": {
      "image/png": "[encoded data removed]",
      "text/plain": [
       "<Figure size 432x288 with 1 Axes>"
      ]
     },
     "metadata": {
      "needs_background": "light"
     },
     "output_type": "display_data"
    }
   ],
   "source": [
    "plt.scatter(X, y)\n",
    "plt.plot(x_sample, y_sample)"
   ]
  },
  {
   "cell_type": "code",
   "execution_count": null,
   "metadata": {},
   "outputs": [],
   "source": []
  },
  {
   "cell_type": "code",
   "execution_count": 163,
   "metadata": {},
   "outputs": [
    {
     "data": {
      "text/plain": [
       "(100, 1)"
      ]
     },
     "execution_count": 163,
     "metadata": {},
     "output_type": "execute_result"
    }
   ],
   "source": [
    "X.shape"
   ]
  },
  {
   "cell_type": "code",
   "execution_count": null,
   "metadata": {},
   "outputs": [],
   "source": []
  },
  {
   "cell_type": "code",
   "execution_count": 173,
   "metadata": {},
   "outputs": [],
   "source": [
    "class CustomLinearRer:\n",
    "    \n",
    "    def __init__(self, lr=.1):\n",
    "        self.coef = np.random.random()\n",
    "        self.intercept = np.random.random()\n",
    "        self.lr = lr\n",
    "    \n",
    "    \n",
    "    def fit(self, X, y, iters=10):\n",
    "        self.X = X\n",
    "        self.y = y\n",
    "        \n",
    "        for i in range(iters):\n",
    "            self.gradient_dec()\n",
    "            \n",
    "\n",
    "    def gradient_dec(self):\n",
    "        d_coef, d_inter = self.gradient()\n",
    "        \n",
    "        self.coef -= self.lr * d_coef\n",
    "        self.intercept -= self.lr * d_inter\n",
    "    \n",
    "        \n",
    "    \n",
    "    def gradient(self):\n",
    "        yp = self.hypo(self.X)\n",
    "        \n",
    "        d_coef = np.mean((yp - self.y.reshape(-1, 1)) * self.X)\n",
    "        d_inter = np.mean((yp - self.y.reshape(-1, 1)))\n",
    "        \n",
    "        return d_coef, d_inter\n",
    "        \n",
    "        \n",
    "    \n",
    "    def hypo(self, X):\n",
    "        return self.coef * X + self.intercept\n",
    "    \n",
    "    def predict(self, X):\n",
    "        return self.hypo(X).flatten()\n",
    "    "
   ]
  },
  {
   "cell_type": "code",
   "execution_count": 174,
   "metadata": {},
   "outputs": [],
   "source": [
    "model = CustomLinearRer()"
   ]
  },
  {
   "cell_type": "code",
   "execution_count": null,
   "metadata": {},
   "outputs": [],
   "source": []
  },
  {
   "cell_type": "code",
   "execution_count": 175,
   "metadata": {},
   "outputs": [
    {
     "data": {
      "text/plain": [
       "[<matplotlib.lines.Line2D at 0x11e2e62b0>]"
      ]
     },
     "execution_count": 175,
     "metadata": {},
     "output_type": "execute_result"
    },
    {
     "data": {
      "image/png": "[encoded data removed]",
      "text/plain": [
       "<Figure size 432x288 with 1 Axes>"
      ]
     },
     "metadata": {
      "needs_background": "light"
     },
     "output_type": "display_data"
    }
   ],
   "source": [
    "model.fit(X, y, iters=100)\n",
    "\n",
    "plt.scatter(X, y)\n",
    "plt.plot(x_sample, model.predict(x_sample))"
   ]
  },
  {
   "cell_type": "code",
   "execution_count": 132,
   "metadata": {},
   "outputs": [
    {
     "data": {
      "text/plain": [
       "2.3302290013856233"
      ]
     },
     "execution_count": 132,
     "metadata": {},
     "output_type": "execute_result"
    }
   ],
   "source": [
    "model.intercept"
   ]
  },
  {
   "cell_type": "code",
   "execution_count": 93,
   "metadata": {},
   "outputs": [
    {
     "data": {
      "text/plain": [
       "array(41.74110031)"
      ]
     },
     "execution_count": 93,
     "metadata": {},
     "output_type": "execute_result"
    }
   ],
   "source": []
  },
  {
   "cell_type": "code",
   "execution_count": 122,
   "metadata": {},
   "outputs": [
    {
     "data": {
      "text/plain": [
       "(100, 1)"
      ]
     },
     "execution_count": 122,
     "metadata": {},
     "output_type": "execute_result"
    }
   ],
   "source": [
    "X.shape"
   ]
  },
  {
   "cell_type": "code",
   "execution_count": null,
   "metadata": {},
   "outputs": [],
   "source": []
  }
 ],
 "metadata": {
  "kernelspec": {
   "display_name": "Python 3",
   "language": "python",
   "name": "python3"
  },
  "language_info": {
   "codemirror_mode": {
    "name": "ipython",
    "version": 3
   },
   "file_extension": ".py",
   "mimetype": "text/x-python",
   "name": "python",
   "nbconvert_exporter": "python",
   "pygments_lexer": "ipython3",
   "version": "3.7.2"
  }
 },
 "nbformat": 4,
 "nbformat_minor": 2
}
