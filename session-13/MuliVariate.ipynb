{
 "cells": [
  {
   "cell_type": "code",
   "execution_count": 1,
   "metadata": {},
   "outputs": [],
   "source": [
    "from sklearn.datasets import make_regression\n",
    "import numpy as np\n",
    "import matplotlib.pyplot as plt"
   ]
  },
  {
   "cell_type": "code",
   "execution_count": 43,
   "metadata": {},
   "outputs": [],
   "source": [
    "X, y, coef = make_regression(n_features=10, coef=True, noise=5, random_state=4)"
   ]
  },
  {
   "cell_type": "code",
   "execution_count": 44,
   "metadata": {},
   "outputs": [],
   "source": [
    "class CustomLinearRer:\n",
    "    \n",
    "    def __init__(self, lr=.1):\n",
    "        self.lr = lr\n",
    "    \n",
    "    \n",
    "    def fit(self, X, y):\n",
    "        self.coef = np.random.randn(X.shape[1])\n",
    "        self.intercept = np.random.random()\n",
    "        \n",
    "        self.X = X\n",
    "        self.y = y\n",
    "        \n",
    "        for i in range(100):\n",
    "            self.gradient_dec()\n",
    "            \n",
    "\n",
    "    def gradient_dec(self):\n",
    "        d_coef, d_inter = self.gradient()\n",
    "        \n",
    "        self.coef -= self.lr * d_coef\n",
    "        self.intercept -= self.lr * d_inter\n",
    "    \n",
    "        \n",
    "    \n",
    "    def gradient(self):\n",
    "        yp = self.hypo(self.X)\n",
    "        \n",
    "        d_coef = (yp - self.y).reshape(1, -1).dot(self.X) / X.shape[0]\n",
    "        d_inter = np.mean(yp - self.y)\n",
    "        \n",
    "        print(d_coef.shape, d_inter.shape)\n",
    "        \n",
    "        return d_coef.flatten(), d_inter\n",
    "        \n",
    "        \n",
    "    \n",
    "    def hypo(self, X):\n",
    "        return np.sum(self.coef * X, axis=1) + self.intercept\n",
    "    \n",
    "    def predict(self, X):\n",
    "        return self.hypo(X).flatten()\n",
    "    "
   ]
  },
  {
   "cell_type": "code",
   "execution_count": 45,
   "metadata": {},
   "outputs": [],
   "source": [
    "model = CustomLinearRer()"
   ]
  },
  {
   "cell_type": "code",
   "execution_count": null,
   "metadata": {},
   "outputs": [],
   "source": []
  },
  {
   "cell_type": "code",
   "execution_count": 46,
   "metadata": {},
   "outputs": [
    {
     "name": "stdout",
     "output_type": "stream",
     "text": [
      "(1, 10) ()\n",
      "(1, 10) ()\n",
      "(1, 10) ()\n",
      "(1, 10) ()\n",
      "(1, 10) ()\n",
      "(1, 10) ()\n",
      "(1, 10) ()\n",
      "(1, 10) ()\n",
      "(1, 10) ()\n",
      "(1, 10) ()\n",
      "(1, 10) ()\n",
      "(1, 10) ()\n",
      "(1, 10) ()\n",
      "(1, 10) ()\n",
      "(1, 10) ()\n",
      "(1, 10) ()\n",
      "(1, 10) ()\n",
      "(1, 10) ()\n",
      "(1, 10) ()\n",
      "(1, 10) ()\n",
      "(1, 10) ()\n",
      "(1, 10) ()\n",
      "(1, 10) ()\n",
      "(1, 10) ()\n",
      "(1, 10) ()\n",
      "(1, 10) ()\n",
      "(1, 10) ()\n",
      "(1, 10) ()\n",
      "(1, 10) ()\n",
      "(1, 10) ()\n",
      "(1, 10) ()\n",
      "(1, 10) ()\n",
      "(1, 10) ()\n",
      "(1, 10) ()\n",
      "(1, 10) ()\n",
      "(1, 10) ()\n",
      "(1, 10) ()\n",
      "(1, 10) ()\n",
      "(1, 10) ()\n",
      "(1, 10) ()\n",
      "(1, 10) ()\n",
      "(1, 10) ()\n",
      "(1, 10) ()\n",
      "(1, 10) ()\n",
      "(1, 10) ()\n",
      "(1, 10) ()\n",
      "(1, 10) ()\n",
      "(1, 10) ()\n",
      "(1, 10) ()\n",
      "(1, 10) ()\n",
      "(1, 10) ()\n",
      "(1, 10) ()\n",
      "(1, 10) ()\n",
      "(1, 10) ()\n",
      "(1, 10) ()\n",
      "(1, 10) ()\n",
      "(1, 10) ()\n",
      "(1, 10) ()\n",
      "(1, 10) ()\n",
      "(1, 10) ()\n",
      "(1, 10) ()\n",
      "(1, 10) ()\n",
      "(1, 10) ()\n",
      "(1, 10) ()\n",
      "(1, 10) ()\n",
      "(1, 10) ()\n",
      "(1, 10) ()\n",
      "(1, 10) ()\n",
      "(1, 10) ()\n",
      "(1, 10) ()\n",
      "(1, 10) ()\n",
      "(1, 10) ()\n",
      "(1, 10) ()\n",
      "(1, 10) ()\n",
      "(1, 10) ()\n",
      "(1, 10) ()\n",
      "(1, 10) ()\n",
      "(1, 10) ()\n",
      "(1, 10) ()\n",
      "(1, 10) ()\n",
      "(1, 10) ()\n",
      "(1, 10) ()\n",
      "(1, 10) ()\n",
      "(1, 10) ()\n",
      "(1, 10) ()\n",
      "(1, 10) ()\n",
      "(1, 10) ()\n",
      "(1, 10) ()\n",
      "(1, 10) ()\n",
      "(1, 10) ()\n",
      "(1, 10) ()\n",
      "(1, 10) ()\n",
      "(1, 10) ()\n",
      "(1, 10) ()\n",
      "(1, 10) ()\n",
      "(1, 10) ()\n",
      "(1, 10) ()\n",
      "(1, 10) ()\n",
      "(1, 10) ()\n",
      "(1, 10) ()\n"
     ]
    }
   ],
   "source": [
    "model.fit(X, y)\n"
   ]
  },
  {
   "cell_type": "code",
   "execution_count": 47,
   "metadata": {},
   "outputs": [
    {
     "data": {
      "text/plain": [
       "0.07201562143021403"
      ]
     },
     "execution_count": 47,
     "metadata": {},
     "output_type": "execute_result"
    }
   ],
   "source": [
    "model.intercept"
   ]
  },
  {
   "cell_type": "code",
   "execution_count": 48,
   "metadata": {},
   "outputs": [
    {
     "data": {
      "text/plain": [
       "array([16.52144875, 48.79096797, 87.90688967, 45.43259927, 44.04951115,\n",
       "       74.11911977, 93.38889431, 29.32291542, 33.9386982 , 74.52799841])"
      ]
     },
     "execution_count": 48,
     "metadata": {},
     "output_type": "execute_result"
    }
   ],
   "source": [
    "model.coef"
   ]
  },
  {
   "cell_type": "code",
   "execution_count": 49,
   "metadata": {},
   "outputs": [
    {
     "data": {
      "text/plain": [
       "array([17.3048185 , 48.59557438, 88.89531859, 45.01037108, 43.40892425,\n",
       "       75.20614681, 94.52413333, 29.64261983, 33.66064008, 74.91065756])"
      ]
     },
     "execution_count": 49,
     "metadata": {},
     "output_type": "execute_result"
    }
   ],
   "source": [
    "coef"
   ]
  },
  {
   "cell_type": "code",
   "execution_count": 24,
   "metadata": {},
   "outputs": [
    {
     "ename": "ValueError",
     "evalue": "operands could not be broadcast together with shapes (10,) (10,2) ",
     "output_type": "error",
     "traceback": [
      "\u001b[0;31m---------------------------------------------------------------------------\u001b[0m",
      "\u001b[0;31mValueError\u001b[0m                                Traceback (most recent call last)",
      "\u001b[0;32m<ipython-input-24-76cdfa20a9f0>\u001b[0m in \u001b[0;36m<module>\u001b[0;34m\u001b[0m\n\u001b[0;32m----> 1\u001b[0;31m \u001b[0mnp\u001b[0m\u001b[0;34m.\u001b[0m\u001b[0marange\u001b[0m\u001b[0;34m(\u001b[0m\u001b[0;36m10\u001b[0m\u001b[0;34m)\u001b[0m \u001b[0;34m*\u001b[0m \u001b[0mnp\u001b[0m\u001b[0;34m.\u001b[0m\u001b[0marange\u001b[0m\u001b[0;34m(\u001b[0m\u001b[0;36m20\u001b[0m\u001b[0;34m)\u001b[0m\u001b[0;34m.\u001b[0m\u001b[0mreshape\u001b[0m\u001b[0;34m(\u001b[0m\u001b[0;36m10\u001b[0m\u001b[0;34m,\u001b[0m \u001b[0;36m2\u001b[0m\u001b[0;34m)\u001b[0m\u001b[0;34m\u001b[0m\u001b[0;34m\u001b[0m\u001b[0m\n\u001b[0m",
      "\u001b[0;31mValueError\u001b[0m: operands could not be broadcast together with shapes (10,) (10,2) "
     ]
    }
   ],
   "source": [
    "np.arange(10) * np.arange(20).reshape(10, 2)"
   ]
  },
  {
   "cell_type": "code",
   "execution_count": 50,
   "metadata": {},
   "outputs": [
    {
     "name": "stdout",
     "output_type": "stream",
     "text": [
      "[master b554827] session 13\n",
      " 1 file changed, 349 insertions(+), 267 deletions(-)\n",
      " rewrite session-13/MuliVariate.ipynb (84%)\n",
      "Enumerating objects: 7, done.\n",
      "Counting objects: 100% (7/7), done.\n",
      "Delta compression using up to 4 threads.\n",
      "Compressing objects: 100% (4/4), done.\n",
      "Writing objects: 100% (4/4), 1.33 KiB | 1.33 MiB/s, done.\n",
      "Total 4 (delta 3), reused 0 (delta 0)\n",
      "remote: Resolving deltas: 100% (3/3), completed with 3 local objects.\u001b[K\n",
      "To https://github.com/coding-blocks-archives/plaksha-py-2019.git\n",
      "   5aa2230..b554827  master -> master\n"
     ]
    }
   ],
   "source": [
    "! push \"session 13\""
   ]
  },
  {
   "cell_type": "code",
   "execution_count": null,
   "metadata": {},
   "outputs": [],
   "source": []
  }
 ],
 "metadata": {
  "kernelspec": {
   "display_name": "Python 3",
   "language": "python",
   "name": "python3"
  },
  "language_info": {
   "codemirror_mode": {
    "name": "ipython",
    "version": 3
   },
   "file_extension": ".py",
   "mimetype": "text/x-python",
   "name": "python",
   "nbconvert_exporter": "python",
   "pygments_lexer": "ipython3",
   "version": "3.7.2"
  }
 },
 "nbformat": 4,
 "nbformat_minor": 2
}
