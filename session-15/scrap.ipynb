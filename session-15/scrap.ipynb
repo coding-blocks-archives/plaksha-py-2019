{
 "cells": [
  {
   "cell_type": "code",
   "execution_count": 1,
   "metadata": {},
   "outputs": [],
   "source": [
    "import requests\n",
    "import bs4"
   ]
  },
  {
   "cell_type": "code",
   "execution_count": 9,
   "metadata": {},
   "outputs": [],
   "source": [
    "def store(url, fname):\n",
    "    data = requests.get(url)\n",
    "    with open(fname, \"wt\", encoding=\"utf-8\") as fp:\n",
    "        fp.write(data.text)"
   ]
  },
  {
   "cell_type": "code",
   "execution_count": 10,
   "metadata": {},
   "outputs": [],
   "source": [
    "store(\"https://www.goodreads.com/quotes\", \"quotes.html\")"
   ]
  },
  {
   "cell_type": "code",
   "execution_count": null,
   "metadata": {},
   "outputs": [],
   "source": []
  },
  {
   "cell_type": "code",
   "execution_count": 14,
   "metadata": {},
   "outputs": [],
   "source": [
    "with open(\"quotes.html\", encoding=\"utf-8\") as fp:\n",
    "    text = fp.read()"
   ]
  },
  {
   "cell_type": "code",
   "execution_count": 15,
   "metadata": {},
   "outputs": [],
   "source": [
    "soup = bs4.BeautifulSoup(text)"
   ]
  },
  {
   "cell_type": "code",
   "execution_count": 16,
   "metadata": {},
   "outputs": [
    {
     "data": {
      "text/plain": [
       "<title>Popular Quotes</title>"
      ]
     },
     "execution_count": 16,
     "metadata": {},
     "output_type": "execute_result"
    }
   ],
   "source": [
    "soup.title"
   ]
  },
  {
   "cell_type": "code",
   "execution_count": 18,
   "metadata": {},
   "outputs": [
    {
     "data": {
      "text/plain": [
       "<title>Popular Quotes</title>"
      ]
     },
     "execution_count": 18,
     "metadata": {},
     "output_type": "execute_result"
    }
   ],
   "source": [
    "soup.head.title"
   ]
  },
  {
   "cell_type": "code",
   "execution_count": 20,
   "metadata": {},
   "outputs": [
    {
     "data": {
      "text/plain": [
       "<div data-react-class=\"ReactComponents.StoresInitializer\" data-react-props=\"{}\"><noscript data-react-checksum=\"-1813442452\" data-reactid=\".uz7a3ke80\"></noscript></div>"
      ]
     },
     "execution_count": 20,
     "metadata": {},
     "output_type": "execute_result"
    }
   ],
   "source": [
    "soup.div"
   ]
  },
  {
   "cell_type": "code",
   "execution_count": 22,
   "metadata": {},
   "outputs": [],
   "source": [
    "links = soup.find_all(\"a\")"
   ]
  },
  {
   "cell_type": "code",
   "execution_count": 32,
   "metadata": {},
   "outputs": [
    {
     "name": "stdout",
     "output_type": "stream",
     "text": [
      "https://www.goodreads.com/audible\n",
      "https://www.goodreads.com/audible\n",
      "https://images.gr-assets.com/quotes/1511992603p8/8630.jpg\n",
      "https://images.gr-assets.com/quotes/1387503187p8/10554.jpg\n",
      "https://images.gr-assets.com/quotes/1387506524p8/2534.jpg\n",
      "https://images.gr-assets.com/quotes/1512016299p8/12379.jpg\n",
      "https://help.goodreads.com\n",
      "https://www.facebook.com/Goodreads/\n",
      "https://twitter.com/goodreads\n",
      "https://www.instagram.com/goodreads/\n",
      "https://www.linkedin.com/company/goodreads-com/\n",
      "https://itunes.apple.com/app/apple-store/id355833469?pt=325668&ct=mw_footer&mt=8\n",
      "https://play.google.com/store/apps/details?id=com.goodreads&utm_source=mw_footer&pcampaignid=MKT-Other-global-all-co-prtnr-py-PartBadge-Mar2515-1\n"
     ]
    }
   ],
   "source": [
    "for link in links:\n",
    "    \n",
    "    if link.has_attr(\"href\"):\n",
    "        href = link[\"href\"]\n",
    "        if href.startswith(\"http\"):\n",
    "            print(href)\n",
    "        "
   ]
  },
  {
   "cell_type": "code",
   "execution_count": 33,
   "metadata": {},
   "outputs": [],
   "source": [
    "# dir(links[0])"
   ]
  },
  {
   "cell_type": "code",
   "execution_count": null,
   "metadata": {},
   "outputs": [],
   "source": []
  },
  {
   "cell_type": "code",
   "execution_count": 34,
   "metadata": {},
   "outputs": [],
   "source": [
    "quote_divs = soup.find_all(\"div\", {\"class\": \"quote\"})"
   ]
  },
  {
   "cell_type": "code",
   "execution_count": 38,
   "metadata": {},
   "outputs": [],
   "source": [
    "quote_div = quote_divs[0]\n",
    "\n",
    "text_div = quote_div.find_next(\"div\", {\"class\": \"quoteText\"})\n",
    "left_div = quote_div.find_next(\"div\", {\"class\": \"left\"})"
   ]
  },
  {
   "cell_type": "code",
   "execution_count": 39,
   "metadata": {},
   "outputs": [
    {
     "data": {
      "text/plain": [
       "<div class=\"quoteText\">\n",
       "      “Don't cry because it's over, smile because it happened.”\n",
       "  <br/>  ―\n",
       "  <span class=\"authorOrTitle\">\n",
       "    Dr. Seuss\n",
       "  </span>\n",
       "</div>"
      ]
     },
     "execution_count": 39,
     "metadata": {},
     "output_type": "execute_result"
    }
   ],
   "source": [
    "text_div"
   ]
  },
  {
   "cell_type": "code",
   "execution_count": 40,
   "metadata": {},
   "outputs": [
    {
     "data": {
      "text/plain": [
       "<div class=\"greyText smallText left\">\n",
       "     tags:\n",
       "       <a href=\"/quotes/tag/attributed-no-source\">attributed-no-source</a>,\n",
       "       <a href=\"/quotes/tag/cry\">cry</a>,\n",
       "       <a href=\"/quotes/tag/crying\">crying</a>,\n",
       "       <a href=\"/quotes/tag/experience\">experience</a>,\n",
       "       <a href=\"/quotes/tag/happiness\">happiness</a>,\n",
       "       <a href=\"/quotes/tag/joy\">joy</a>,\n",
       "       <a href=\"/quotes/tag/life\">life</a>,\n",
       "       <a href=\"/quotes/tag/misattributed-dr-seuss\">misattributed-dr-seuss</a>,\n",
       "       <a href=\"/quotes/tag/optimism\">optimism</a>,\n",
       "       <a href=\"/quotes/tag/sadness\">sadness</a>,\n",
       "       <a href=\"/quotes/tag/smile\">smile</a>,\n",
       "       <a href=\"/quotes/tag/smiling\">smiling</a>\n",
       "</div>"
      ]
     },
     "execution_count": 40,
     "metadata": {},
     "output_type": "execute_result"
    }
   ],
   "source": [
    "left_div"
   ]
  },
  {
   "cell_type": "code",
   "execution_count": 43,
   "metadata": {},
   "outputs": [],
   "source": [
    "lines = text_div.text.split(\"\\n\")"
   ]
  },
  {
   "cell_type": "code",
   "execution_count": 52,
   "metadata": {},
   "outputs": [],
   "source": [
    "list_quotes = []\n",
    "\n",
    "for quote_div in quote_divs:\n",
    "\n",
    "    text_div = quote_div.find_next(\"div\", {\"class\": \"quoteText\"})\n",
    "    left_div = quote_div.find_next(\"div\", {\"class\": \"left\"})\n",
    "\n",
    "    lines = text_div.text.split(\"\\n\")\n",
    "\n",
    "    auther = lines[4].strip()\n",
    "    quote = lines[1].strip()[1:-1]\n",
    "    tags = list(map(lambda x : x.text, left_div.find_all(\"a\")))\n",
    "    \n",
    "    quote_details = {\n",
    "        \"quote\" : quote,\n",
    "        \"auther\" : auther,\n",
    "        \"tags\" : tags\n",
    "    }\n",
    "    \n",
    "    list_quotes.append(quote_details)"
   ]
  },
  {
   "cell_type": "code",
   "execution_count": 54,
   "metadata": {},
   "outputs": [],
   "source": [
    "# list_quotes"
   ]
  },
  {
   "cell_type": "code",
   "execution_count": 55,
   "metadata": {},
   "outputs": [],
   "source": [
    "import json"
   ]
  },
  {
   "cell_type": "code",
   "execution_count": 57,
   "metadata": {},
   "outputs": [],
   "source": [
    "with open(\"quotes.json\", \"wt\") as fp:\n",
    "    json.dump(list_quotes, fp)"
   ]
  },
  {
   "cell_type": "code",
   "execution_count": null,
   "metadata": {},
   "outputs": [],
   "source": []
  }
 ],
 "metadata": {
  "kernelspec": {
   "display_name": "Python 3",
   "language": "python",
   "name": "python3"
  },
  "language_info": {
   "codemirror_mode": {
    "name": "ipython",
    "version": 3
   },
   "file_extension": ".py",
   "mimetype": "text/x-python",
   "name": "python",
   "nbconvert_exporter": "python",
   "pygments_lexer": "ipython3",
   "version": "3.7.2"
  }
 },
 "nbformat": 4,
 "nbformat_minor": 4
}
