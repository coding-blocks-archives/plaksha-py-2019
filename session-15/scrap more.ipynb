{
 "cells": [
  {
   "cell_type": "code",
   "execution_count": 2,
   "metadata": {},
   "outputs": [],
   "source": [
    "import requests\n",
    "import bs4"
   ]
  },
  {
   "cell_type": "code",
   "execution_count": 4,
   "metadata": {},
   "outputs": [],
   "source": [
    "def process_page(soup):\n",
    "\n",
    "    quote_divs = soup.find_all(\"div\", {\"class\": \"quote\"})\n",
    "\n",
    "    list_quotes = []\n",
    "\n",
    "    for quote_div in quote_divs:\n",
    "\n",
    "        text_div = quote_div.find_next(\"div\", {\"class\": \"quoteText\"})\n",
    "        left_div = quote_div.find_next(\"div\", {\"class\": \"left\"})\n",
    "\n",
    "        lines = text_div.text.split(\"\\n\")\n",
    "\n",
    "        auther = lines[4].strip()\n",
    "        quote = lines[1].strip()[1:-1]\n",
    "        tags = list(map(lambda x : x.text, left_div.find_all(\"a\")))\n",
    "\n",
    "        quote_details = {\n",
    "            \"quote\" : quote,\n",
    "            \"auther\" : auther,\n",
    "            \"tags\" : tags\n",
    "        }\n",
    "\n",
    "        list_quotes.append(quote_details)\n",
    "\n",
    "    return list_quotes"
   ]
  },
  {
   "cell_type": "code",
   "execution_count": 5,
   "metadata": {},
   "outputs": [],
   "source": [
    "url = r\"https://www.goodreads.com/quotes/tag/love?page={}\"\n",
    "\n",
    "total = []\n",
    "\n",
    "for i in range(1, 6):\n",
    "    text = requests.get(url.format(i)).text\n",
    "    \n",
    "    soup = bs4.BeautifulSoup(text)\n",
    "    \n",
    "    total.extend(process_page(soup))"
   ]
  },
  {
   "cell_type": "code",
   "execution_count": 7,
   "metadata": {},
   "outputs": [
    {
     "data": {
      "text/plain": [
       "150"
      ]
     },
     "execution_count": 7,
     "metadata": {},
     "output_type": "execute_result"
    }
   ],
   "source": [
    "len(total)"
   ]
  },
  {
   "cell_type": "code",
   "execution_count": 8,
   "metadata": {},
   "outputs": [],
   "source": [
    "import pandas as pd"
   ]
  },
  {
   "cell_type": "code",
   "execution_count": null,
   "metadata": {},
   "outputs": [],
   "source": [
    "pd.DataFrame.from_dict()"
   ]
  }
 ],
 "metadata": {
  "kernelspec": {
   "display_name": "Python 3",
   "language": "python",
   "name": "python3"
  },
  "language_info": {
   "codemirror_mode": {
    "name": "ipython",
    "version": 3
   },
   "file_extension": ".py",
   "mimetype": "text/x-python",
   "name": "python",
   "nbconvert_exporter": "python",
   "pygments_lexer": "ipython3",
   "version": "3.7.2"
  }
 },
 "nbformat": 4,
 "nbformat_minor": 4
}
