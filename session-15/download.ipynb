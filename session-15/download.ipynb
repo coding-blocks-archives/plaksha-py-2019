{
 "cells": [
  {
   "cell_type": "code",
   "execution_count": 1,
   "metadata": {},
   "outputs": [],
   "source": [
    "import requests"
   ]
  },
  {
   "cell_type": "code",
   "execution_count": 2,
   "metadata": {},
   "outputs": [],
   "source": [
    "data = requests.get(\"https://d17fnq9dkz9hgj.cloudfront.net/uploads/2018/03/Scottish-Fold_01.jpg\")"
   ]
  },
  {
   "cell_type": "code",
   "execution_count": 4,
   "metadata": {},
   "outputs": [],
   "source": [
    "with open(\"cat.jpg\", \"wb\") as fp:\n",
    "    fp.write(data.content)\n"
   ]
  },
  {
   "cell_type": "code",
   "execution_count": 5,
   "metadata": {},
   "outputs": [
    {
     "data": {
      "text/plain": [
       "{'Content-Type': 'image/jpeg', 'Content-Length': '359835', 'Connection': 'keep-alive', 'Date': 'Sat, 17 Aug 2019 03:51:35 GMT', 'Last-Modified': 'Tue, 16 Oct 2018 18:45:50 GMT', 'ETag': '\"efd0f934105e9e72c19e51c808200e38\"', 'Cache-Control': 'max-age=15552000', 'Accept-Ranges': 'bytes', 'Server': 'AmazonS3', 'X-Cache': 'Hit from cloudfront', 'Via': '1.1 16276bfde2759a86d293c01543bee921.cloudfront.net (CloudFront)', 'X-Amz-Cf-Pop': 'DEL54-C4', 'X-Amz-Cf-Id': '_RQNzLTgKvOnT5GMKtJz4mqfYfeai7zGzTafglWIEIR9Ub4vT_9QWw==', 'Age': '3202083'}"
      ]
     },
     "execution_count": 5,
     "metadata": {},
     "output_type": "execute_result"
    }
   ],
   "source": [
    "data.headers"
   ]
  },
  {
   "cell_type": "code",
   "execution_count": null,
   "metadata": {},
   "outputs": [],
   "source": []
  }
 ],
 "metadata": {
  "kernelspec": {
   "display_name": "Python 3",
   "language": "python",
   "name": "python3"
  },
  "language_info": {
   "codemirror_mode": {
    "name": "ipython",
    "version": 3
   },
   "file_extension": ".py",
   "mimetype": "text/x-python",
   "name": "python",
   "nbconvert_exporter": "python",
   "pygments_lexer": "ipython3",
   "version": "3.7.2"
  }
 },
 "nbformat": 4,
 "nbformat_minor": 4
}
