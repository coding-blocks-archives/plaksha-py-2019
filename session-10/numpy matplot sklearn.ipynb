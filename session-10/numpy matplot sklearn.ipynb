{
 "cells": [
  {
   "cell_type": "code",
   "execution_count": 1,
   "metadata": {},
   "outputs": [],
   "source": [
    "import numpy as np\n",
    "import matplotlib.pyplot as plt"
   ]
  },
  {
   "cell_type": "code",
   "execution_count": 2,
   "metadata": {},
   "outputs": [],
   "source": [
    "from sklearn.datasets import make_blobs"
   ]
  },
  {
   "cell_type": "code",
   "execution_count": 49,
   "metadata": {},
   "outputs": [],
   "source": [
    "X, y = make_blobs(n_samples=100, centers=2, random_state=0)"
   ]
  },
  {
   "cell_type": "code",
   "execution_count": 50,
   "metadata": {},
   "outputs": [
    {
     "data": {
      "text/plain": [
       "array([[ 4.21850347,  2.23419161],\n",
       "       [ 0.90779887,  0.45984362],\n",
       "       [-0.27652528,  5.08127768],\n",
       "       [ 0.08848433,  2.32299086],\n",
       "       [ 3.24329731,  1.21460627],\n",
       "       [ 1.44193252,  2.76754364],\n",
       "       [ 1.0220286 ,  4.11660348],\n",
       "       [ 3.97820955,  2.37817845],\n",
       "       [ 0.58894326,  4.00148458],\n",
       "       [ 1.25185786,  0.20811388]])"
      ]
     },
     "execution_count": 50,
     "metadata": {},
     "output_type": "execute_result"
    }
   ],
   "source": [
    "X[:10]"
   ]
  },
  {
   "cell_type": "code",
   "execution_count": 51,
   "metadata": {},
   "outputs": [
    {
     "data": {
      "text/plain": [
       "array([4.21850347, 2.23419161])"
      ]
     },
     "execution_count": 51,
     "metadata": {},
     "output_type": "execute_result"
    }
   ],
   "source": [
    "X[0]"
   ]
  },
  {
   "cell_type": "code",
   "execution_count": 52,
   "metadata": {},
   "outputs": [
    {
     "data": {
      "text/plain": [
       "1"
      ]
     },
     "execution_count": 52,
     "metadata": {},
     "output_type": "execute_result"
    }
   ],
   "source": [
    "y[0]"
   ]
  },
  {
   "cell_type": "code",
   "execution_count": 53,
   "metadata": {},
   "outputs": [],
   "source": [
    "\n",
    "X_zero = X[y == 0]\n",
    "X_one = X[y == 1]"
   ]
  },
  {
   "cell_type": "code",
   "execution_count": 54,
   "metadata": {},
   "outputs": [
    {
     "data": {
      "image/png": "[encoded data removed]",
      "text/plain": [
       "<Figure size 432x288 with 1 Axes>"
      ]
     },
     "metadata": {
      "needs_background": "light"
     },
     "output_type": "display_data"
    }
   ],
   "source": [
    "plt.figure()\n",
    "plt.scatter(X_zero[:, 0], X_zero[:, 1])\n",
    "plt.xlim(-15, 15)\n",
    "plt.ylim(-15, 15)\n",
    "\n",
    "plt.scatter(X_one[:, 0], X_one[:, 1])\n",
    "plt.xlim(-15, 15)\n",
    "plt.ylim(-15, 15)\n",
    "plt.show()\n"
   ]
  },
  {
   "cell_type": "code",
   "execution_count": 20,
   "metadata": {},
   "outputs": [
    {
     "data": {
      "text/plain": [
       "<matplotlib.collections.PathCollection at 0x11d138198>"
      ]
     },
     "execution_count": 20,
     "metadata": {},
     "output_type": "execute_result"
    },
    {
     "data": {
      "image/png": "[encoded data removed]",
      "text/plain": [
       "<Figure size 432x288 with 1 Axes>"
      ]
     },
     "metadata": {
      "needs_background": "light"
     },
     "output_type": "display_data"
    }
   ],
   "source": [
    "plt.scatter(X_zero[:, 0], X_zero[:, 1])"
   ]
  },
  {
   "cell_type": "code",
   "execution_count": 21,
   "metadata": {},
   "outputs": [],
   "source": [
    "feature_0 = X[:, 0]\n",
    "feature_1 = X[:, 1]"
   ]
  },
  {
   "cell_type": "code",
   "execution_count": 22,
   "metadata": {},
   "outputs": [
    {
     "data": {
      "text/plain": [
       "(100, 2)"
      ]
     },
     "execution_count": 22,
     "metadata": {},
     "output_type": "execute_result"
    }
   ],
   "source": [
    "X.shape"
   ]
  },
  {
   "cell_type": "code",
   "execution_count": 23,
   "metadata": {},
   "outputs": [
    {
     "data": {
      "text/plain": [
       "(100,)"
      ]
     },
     "execution_count": 23,
     "metadata": {},
     "output_type": "execute_result"
    }
   ],
   "source": [
    "feature_0.shape"
   ]
  },
  {
   "cell_type": "code",
   "execution_count": 27,
   "metadata": {},
   "outputs": [],
   "source": [
    "X_mod = np.hstack([feature_0.reshape(-1, 1), feature_1.reshape(-1, 1)])"
   ]
  },
  {
   "cell_type": "code",
   "execution_count": 28,
   "metadata": {},
   "outputs": [
    {
     "data": {
      "text/plain": [
       "array([[-2.98837186,  8.82862715],\n",
       "       [ 5.72293008,  3.02697174],\n",
       "       [-3.05358035,  9.12520872],\n",
       "       [ 5.461939  ,  3.86996267],\n",
       "       [ 4.86733877,  3.28031244],\n",
       "       [-2.14780202, 10.55232269],\n",
       "       [ 4.91656964,  2.80035293],\n",
       "       [ 3.08921541,  2.04173266],\n",
       "       [-2.90130578,  7.55077118],\n",
       "       [-3.34841515,  8.70507375]])"
      ]
     },
     "execution_count": 28,
     "metadata": {},
     "output_type": "execute_result"
    }
   ],
   "source": [
    "X_mod[:10]"
   ]
  },
  {
   "cell_type": "code",
   "execution_count": 29,
   "metadata": {},
   "outputs": [
    {
     "data": {
      "text/plain": [
       "array([[-2.98837186,  8.82862715],\n",
       "       [ 5.72293008,  3.02697174],\n",
       "       [-3.05358035,  9.12520872],\n",
       "       [ 5.461939  ,  3.86996267],\n",
       "       [ 4.86733877,  3.28031244],\n",
       "       [-2.14780202, 10.55232269],\n",
       "       [ 4.91656964,  2.80035293],\n",
       "       [ 3.08921541,  2.04173266],\n",
       "       [-2.90130578,  7.55077118],\n",
       "       [-3.34841515,  8.70507375]])"
      ]
     },
     "execution_count": 29,
     "metadata": {},
     "output_type": "execute_result"
    }
   ],
   "source": [
    "X[:10]"
   ]
  },
  {
   "cell_type": "code",
   "execution_count": 30,
   "metadata": {},
   "outputs": [
    {
     "data": {
      "text/plain": [
       "(50, 2)"
      ]
     },
     "execution_count": 30,
     "metadata": {},
     "output_type": "execute_result"
    }
   ],
   "source": [
    "X_zero.shape"
   ]
  },
  {
   "cell_type": "code",
   "execution_count": 31,
   "metadata": {},
   "outputs": [],
   "source": [
    "X_sec = np.vstack([X_zero, X_one])"
   ]
  },
  {
   "cell_type": "code",
   "execution_count": 32,
   "metadata": {},
   "outputs": [
    {
     "data": {
      "text/plain": [
       "(100, 2)"
      ]
     },
     "execution_count": 32,
     "metadata": {},
     "output_type": "execute_result"
    }
   ],
   "source": [
    "X_sec.shape"
   ]
  },
  {
   "cell_type": "code",
   "execution_count": 33,
   "metadata": {},
   "outputs": [
    {
     "data": {
      "text/plain": [
       "[array([[-2.98837186,  8.82862715],\n",
       "        [-3.05358035,  9.12520872],\n",
       "        [-2.14780202, 10.55232269],\n",
       "        [-2.90130578,  7.55077118],\n",
       "        [-3.34841515,  8.70507375],\n",
       "        [-2.44166942,  7.58953794],\n",
       "        [-2.97867201,  9.55684617],\n",
       "        [-3.83738367,  9.21114736],\n",
       "        [-2.41743685,  7.02671721],\n",
       "        [-0.92998481,  9.78172086],\n",
       "        [-1.6966718 , 10.37052616],\n",
       "        [-2.743351  ,  8.78014917],\n",
       "        [-3.98771961,  8.29444192],\n",
       "        [-3.6601912 ,  9.38998415],\n",
       "        [-1.04354885,  8.78850983],\n",
       "        [-2.16557933,  7.25124597],\n",
       "        [-2.17793419,  9.98983126],\n",
       "        [-3.31769123,  8.51252908],\n",
       "        [-2.30033403,  7.054616  ],\n",
       "        [-1.77073104,  9.18565441],\n",
       "        [-1.03130358,  8.49601591],\n",
       "        [-2.54502366, 10.57892978],\n",
       "        [-2.21307735,  9.2753414 ],\n",
       "        [-3.6155326 ,  7.8180795 ],\n",
       "        [-4.23411546,  8.4519986 ],\n",
       "        [-2.97261532,  8.54855637],\n",
       "        [-2.26723535,  7.10100588],\n",
       "        [-2.41212007,  9.98293112],\n",
       "        [-2.1475616 ,  8.36916637],\n",
       "        [-2.42215055,  8.71527878],\n",
       "        [-3.03895783,  9.52755356],\n",
       "        [-3.92456837,  8.59364081],\n",
       "        [-2.96983639, 10.07140835],\n",
       "        [-2.58120774, 10.01781903],\n",
       "        [-2.52269485,  7.9565752 ],\n",
       "        [-3.11090424, 10.86656431],\n",
       "        [-1.68665271,  7.79344248],\n",
       "        [-3.4172217 ,  7.60198243],\n",
       "        [-2.62484591,  8.71318243],\n",
       "        [-3.21125072,  8.68662398],\n",
       "        [-5.12894273,  9.83618863],\n",
       "        [-3.52202874,  9.32853346],\n",
       "        [-3.10983631,  8.72259238],\n",
       "        [-2.18511365,  8.62920385],\n",
       "        [-3.18611962,  9.62596242],\n",
       "        [-2.85191214,  8.21200886],\n",
       "        [-1.4781981 ,  9.94556625],\n",
       "        [-1.59379551,  9.34303724],\n",
       "        [-2.72886951,  9.3713987 ],\n",
       "        [-2.50408417,  8.77969899]]), array([[5.72293008, 3.02697174],\n",
       "        [5.461939  , 3.86996267],\n",
       "        [4.86733877, 3.28031244],\n",
       "        [4.91656964, 2.80035293],\n",
       "        [3.08921541, 2.04173266],\n",
       "        [3.40292813, 0.65271307],\n",
       "        [3.95985411, 2.20542338],\n",
       "        [3.85662554, 1.65110817],\n",
       "        [4.70010905, 4.4364118 ],\n",
       "        [3.56898634, 2.4556421 ],\n",
       "        [4.69808755, 0.83019939],\n",
       "        [4.85397258, 0.72743091],\n",
       "        [4.44751787, 2.27471703],\n",
       "        [5.43091078, 1.06378223],\n",
       "        [5.60325497, 2.38595061],\n",
       "        [4.89976163, 2.75499256],\n",
       "        [4.56277713, 2.31432166],\n",
       "        [5.1618204 , 2.27015436],\n",
       "        [4.375222  , 4.69333885],\n",
       "        [5.22673593, 4.16362531],\n",
       "        [4.81305976, 2.35848706],\n",
       "        [5.45339605, 0.74230537],\n",
       "        [3.66519717, 2.76025429],\n",
       "        [5.11311646, 1.90034077],\n",
       "        [4.39449072, 1.21943352],\n",
       "        [3.44857534, 2.62972329],\n",
       "        [4.65288073, 3.42670376],\n",
       "        [4.9976662 , 2.53395421],\n",
       "        [5.26554618, 1.11601213],\n",
       "        [4.89742923, 1.89872377],\n",
       "        [3.75036441, 1.1573594 ],\n",
       "        [4.41641605, 2.68717018],\n",
       "        [2.72110762, 1.94665581],\n",
       "        [5.79847442, 1.15248737],\n",
       "        [3.7560214 , 2.12689479],\n",
       "        [6.52606474, 2.1477475 ],\n",
       "        [3.0323956 , 2.15780354],\n",
       "        [4.89037169, 2.31961789],\n",
       "        [3.64934251, 1.40687195],\n",
       "        [6.50565335, 2.4470026 ],\n",
       "        [5.78270165, 2.72510272],\n",
       "        [4.19336388, 2.82956848],\n",
       "        [4.47859312, 2.37722054],\n",
       "        [4.7395302 , 1.46969403],\n",
       "        [3.7204546 , 3.52310409],\n",
       "        [4.93295131, 1.25881827],\n",
       "        [3.57757512, 2.44676211],\n",
       "        [4.60516707, 0.80449165],\n",
       "        [6.04267315, 0.57131862],\n",
       "        [3.79308512, 0.45832246]])]"
      ]
     },
     "execution_count": 33,
     "metadata": {},
     "output_type": "execute_result"
    }
   ],
   "source": []
  },
  {
   "cell_type": "code",
   "execution_count": 55,
   "metadata": {},
   "outputs": [],
   "source": [
    "from sklearn.model_selection import train_test_split\n",
    "from sklearn.neighbors import KNeighborsClassifier"
   ]
  },
  {
   "cell_type": "code",
   "execution_count": 56,
   "metadata": {},
   "outputs": [],
   "source": [
    "X_train, X_test, y_train, y_test = train_test_split(\n",
    "...     X, y, test_size=0.33, random_state=42)"
   ]
  },
  {
   "cell_type": "code",
   "execution_count": 57,
   "metadata": {},
   "outputs": [],
   "source": [
    "model = KNeighborsClassifier(n_neighbors=4)"
   ]
  },
  {
   "cell_type": "code",
   "execution_count": 58,
   "metadata": {},
   "outputs": [
    {
     "data": {
      "text/plain": [
       "KNeighborsClassifier(algorithm='auto', leaf_size=30, metric='minkowski',\n",
       "           metric_params=None, n_jobs=None, n_neighbors=4, p=2,\n",
       "           weights='uniform')"
      ]
     },
     "execution_count": 58,
     "metadata": {},
     "output_type": "execute_result"
    }
   ],
   "source": [
    "model.fit(X_train, y_train)"
   ]
  },
  {
   "cell_type": "code",
   "execution_count": 59,
   "metadata": {},
   "outputs": [
    {
     "data": {
      "text/plain": [
       "array([0, 1])"
      ]
     },
     "execution_count": 59,
     "metadata": {},
     "output_type": "execute_result"
    }
   ],
   "source": [
    "model.classes_"
   ]
  },
  {
   "cell_type": "code",
   "execution_count": 60,
   "metadata": {},
   "outputs": [
    {
     "data": {
      "text/plain": [
       "array([0, 0, 0, 1, 0, 1, 1, 0, 0, 0])"
      ]
     },
     "execution_count": 60,
     "metadata": {},
     "output_type": "execute_result"
    }
   ],
   "source": [
    "model.predict(X_test[0:10])"
   ]
  },
  {
   "cell_type": "code",
   "execution_count": 61,
   "metadata": {},
   "outputs": [
    {
     "data": {
      "text/plain": [
       "0.9090909090909091"
      ]
     },
     "execution_count": 61,
     "metadata": {},
     "output_type": "execute_result"
    }
   ],
   "source": [
    "model.score(X_test, y_test)"
   ]
  },
  {
   "cell_type": "code",
   "execution_count": 62,
   "metadata": {},
   "outputs": [
    {
     "data": {
      "text/plain": [
       "array([1, 1, 0, 0, 1, 0, 0, 1, 0, 1, 0, 1, 0, 0, 1, 1, 1, 0, 1, 1, 0, 0,\n",
       "       1, 0, 1, 0, 1, 0, 0, 1, 1, 0, 1, 1, 1, 0, 1, 1, 0, 1, 0, 0, 0, 0,\n",
       "       1, 1, 1, 1, 0, 0, 1, 1, 0, 0, 0, 0, 0, 1, 1, 1, 1, 0, 0, 1, 0, 1,\n",
       "       0, 0, 1, 0, 0, 1, 1, 0, 0, 0, 1, 1, 0, 0, 1, 0, 0, 0, 0, 0, 1, 0,\n",
       "       1, 1, 1, 1, 1, 1, 0, 0, 1, 1, 0, 1])"
      ]
     },
     "execution_count": 62,
     "metadata": {},
     "output_type": "execute_result"
    }
   ],
   "source": [
    "y"
   ]
  },
  {
   "cell_type": "code",
   "execution_count": null,
   "metadata": {},
   "outputs": [],
   "source": []
  },
  {
   "cell_type": "code",
   "execution_count": 63,
   "metadata": {},
   "outputs": [
    {
     "data": {
      "text/plain": [
       "0.9090909090909091"
      ]
     },
     "execution_count": 63,
     "metadata": {},
     "output_type": "execute_result"
    }
   ],
   "source": [
    "np.sum(y_test == model.predict(X_test)) / len(X_test)"
   ]
  },
  {
   "cell_type": "code",
   "execution_count": 64,
   "metadata": {},
   "outputs": [
    {
     "name": "stdout",
     "output_type": "stream",
     "text": [
      "[master 68b7d3e] session\n",
      " 2 files changed, 812 insertions(+)\n",
      " create mode 100644 session-10/.ipynb_checkpoints/numpy matplot sklearn-checkpoint.ipynb\n",
      " create mode 100644 session-10/numpy matplot sklearn.ipynb\n",
      "Enumerating objects: 7, done.\n",
      "Counting objects: 100% (7/7), done.\n",
      "Delta compression using up to 4 threads.\n",
      "Compressing objects: 100% (6/6), done.\n",
      "Writing objects: 100% (6/6), 19.30 KiB | 9.65 MiB/s, done.\n",
      "Total 6 (delta 1), reused 0 (delta 0)\n",
      "remote: Resolving deltas: 100% (1/1), completed with 1 local object.\u001b[K\n",
      "To https://github.com/coding-blocks-archives/plaksha-py-2019.git\n",
      "   9b79e0b..68b7d3e  master -> master\n"
     ]
    }
   ],
   "source": [
    "! push \"session\""
   ]
  },
  {
   "cell_type": "code",
   "execution_count": null,
   "metadata": {},
   "outputs": [],
   "source": []
  }
 ],
 "metadata": {
  "kernelspec": {
   "display_name": "Python 3",
   "language": "python",
   "name": "python3"
  },
  "language_info": {
   "codemirror_mode": {
    "name": "ipython",
    "version": 3
   },
   "file_extension": ".py",
   "mimetype": "text/x-python",
   "name": "python",
   "nbconvert_exporter": "python",
   "pygments_lexer": "ipython3",
   "version": "3.7.2"
  }
 },
 "nbformat": 4,
 "nbformat_minor": 2
}
