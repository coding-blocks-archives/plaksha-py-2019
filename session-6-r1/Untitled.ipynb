{
 "cells": [
  {
   "cell_type": "code",
   "execution_count": 1,
   "metadata": {},
   "outputs": [],
   "source": [
    "def mergesort(nums):\n",
    "    if len(nums) < 2:\n",
    "        return nums\n",
    "    \n",
    "    mid = len(nums)/2\n",
    "    \n",
    "    first, second = nums[:mid], nums[mid:]\n",
    "    \n",
    "    first = mergesort(first)\n",
    "    second = mergesort(second)\n",
    "    \n",
    "    return merge(first, second)\n",
    "    \n",
    "    "
   ]
  },
  {
   "cell_type": "code",
   "execution_count": null,
   "metadata": {},
   "outputs": [],
   "source": [
    "def merge(first, second):\n",
    "    \n",
    "    result = []\n",
    "    i, j = 0, 0\n",
    "    \n",
    "    "
   ]
  }
 ],
 "metadata": {
  "kernelspec": {
   "display_name": "Python 3",
   "language": "python",
   "name": "python3"
  },
  "language_info": {
   "codemirror_mode": {
    "name": "ipython",
    "version": 3
   },
   "file_extension": ".py",
   "mimetype": "text/x-python",
   "name": "python",
   "nbconvert_exporter": "python",
   "pygments_lexer": "ipython3",
   "version": "3.7.2"
  }
 },
 "nbformat": 4,
 "nbformat_minor": 2
}
