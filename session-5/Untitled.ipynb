{
 "cells": [
  {
   "cell_type": "code",
   "execution_count": 3,
   "metadata": {},
   "outputs": [],
   "source": [
    "## subseq\n",
    "\n",
    "\n",
    "def subseq(proc, unproc):\n",
    "    \n",
    "    if len(unproc) == 0:\n",
    "        print(proc)\n",
    "        return\n",
    "    \n",
    "    ch = unproc[0]\n",
    "    unproc = unproc[1:]\n",
    "    \n",
    "    subseq(proc+ch, unproc)\n",
    "    subseq(proc, unproc)    \n"
   ]
  },
  {
   "cell_type": "code",
   "execution_count": 4,
   "metadata": {},
   "outputs": [
    {
     "name": "stdout",
     "output_type": "stream",
     "text": [
      "\n",
      "c\n",
      "b\n",
      "bc\n",
      "a\n",
      "ac\n",
      "ab\n",
      "abc\n"
     ]
    }
   ],
   "source": [
    "subseq(\"\", \"abc\")"
   ]
  },
  {
   "cell_type": "code",
   "execution_count": 6,
   "metadata": {},
   "outputs": [],
   "source": [
    "\n",
    "\n",
    "\n",
    "def dice(proc, target, faces):\n",
    "    if target == 0:\n",
    "        print(proc)\n",
    "        return\n",
    "    \n",
    "    for i in range(1, faces + 1):\n",
    "        if i > target:\n",
    "            break\n",
    "            \n",
    "        dice(proc + str(i), target-i, faces)\n",
    "        "
   ]
  },
  {
   "cell_type": "code",
   "execution_count": 7,
   "metadata": {},
   "outputs": [
    {
     "name": "stdout",
     "output_type": "stream",
     "text": [
      "11111\n",
      "1112\n",
      "1121\n",
      "113\n",
      "1211\n",
      "122\n",
      "131\n",
      "2111\n",
      "212\n",
      "221\n",
      "23\n",
      "311\n",
      "32\n"
     ]
    }
   ],
   "source": [
    "dice(\"\", 5, 3)"
   ]
  },
  {
   "cell_type": "code",
   "execution_count": 8,
   "metadata": {},
   "outputs": [
    {
     "data": {
      "text/plain": [
       "[2, 3, 5]"
      ]
     },
     "execution_count": 8,
     "metadata": {},
     "output_type": "execute_result"
    }
   ],
   "source": []
  },
  {
   "cell_type": "code",
   "execution_count": 10,
   "metadata": {},
   "outputs": [],
   "source": [
    "def maze(path, rows, cols):\n",
    "    \n",
    "    if (rows, cols) == (0, 0):\n",
    "        print(path)\n",
    "        return\n",
    "    \n",
    "    if rows > 0:\n",
    "        maze(path + \"V\", rows-1, cols)\n",
    "        \n",
    "        \n",
    "    if cols > 0:\n",
    "        maze(path + \"H\", rows, cols-1)"
   ]
  },
  {
   "cell_type": "code",
   "execution_count": 11,
   "metadata": {},
   "outputs": [
    {
     "name": "stdout",
     "output_type": "stream",
     "text": [
      "VVVHHH\n",
      "VVHVHH\n",
      "VVHHVH\n",
      "VVHHHV\n",
      "VHVVHH\n",
      "VHVHVH\n",
      "VHVHHV\n",
      "VHHVVH\n",
      "VHHVHV\n",
      "VHHHVV\n",
      "HVVVHH\n",
      "HVVHVH\n",
      "HVVHHV\n",
      "HVHVVH\n",
      "HVHVHV\n",
      "HVHHVV\n",
      "HHVVVH\n",
      "HHVVHV\n",
      "HHVHVV\n",
      "HHHVVV\n"
     ]
    }
   ],
   "source": [
    "maze(\"\", 3, 3)"
   ]
  },
  {
   "cell_type": "code",
   "execution_count": null,
   "metadata": {},
   "outputs": [],
   "source": []
  },
  {
   "cell_type": "code",
   "execution_count": null,
   "metadata": {},
   "outputs": [],
   "source": []
  },
  {
   "cell_type": "code",
   "execution_count": 16,
   "metadata": {},
   "outputs": [],
   "source": []
  },
  {
   "cell_type": "code",
   "execution_count": 17,
   "metadata": {},
   "outputs": [],
   "source": [
    "arr = [1, 2, 5, 3, 1, 2]"
   ]
  },
  {
   "cell_type": "code",
   "execution_count": 21,
   "metadata": {},
   "outputs": [
    {
     "name": "stdout",
     "output_type": "stream",
     "text": [
      "[1, 2, 2]\n",
      "[1, 3, 1]\n",
      "[2, 3]\n",
      "[2, 1, 2]\n",
      "[5]\n",
      "[3, 2]\n"
     ]
    }
   ],
   "source": [
    "sum_target([], 5, arr, 0)"
   ]
  },
  {
   "cell_type": "code",
   "execution_count": 20,
   "metadata": {},
   "outputs": [],
   "source": [
    "def sum_target(proc, target, vals, index):\n",
    "    \n",
    "    if target == 0:\n",
    "        print(proc)\n",
    "        return\n",
    "    \n",
    "    if index == len(vals):\n",
    "        return\n",
    "    \n",
    "    if vals[index] <= target:\n",
    "        proc.append(vals[index])\n",
    "        sum_target(proc, target - vals[index], vals, index + 1)\n",
    "        proc.pop()\n",
    "    \n",
    "    sum_target(proc, target, vals, index+1)\n"
   ]
  },
  {
   "cell_type": "code",
   "execution_count": null,
   "metadata": {},
   "outputs": [],
   "source": []
  }
 ],
 "metadata": {
  "kernelspec": {
   "display_name": "Python 3",
   "language": "python",
   "name": "python3"
  },
  "language_info": {
   "codemirror_mode": {
    "name": "ipython",
    "version": 3
   },
   "file_extension": ".py",
   "mimetype": "text/x-python",
   "name": "python",
   "nbconvert_exporter": "python",
   "pygments_lexer": "ipython3",
   "version": "3.7.2"
  }
 },
 "nbformat": 4,
 "nbformat_minor": 2
}
