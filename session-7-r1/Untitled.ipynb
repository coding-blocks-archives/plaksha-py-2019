{
 "cells": [
  {
   "cell_type": "code",
   "execution_count": 12,
   "metadata": {},
   "outputs": [],
   "source": [
    "def sudoku(su, row, col):\n",
    "    \n",
    "    if row == 9:\n",
    "        for line in su:\n",
    "            print(line)\n",
    "        return\n",
    "    \n",
    "    if col == 9:\n",
    "        sudoku(su, row+1, 0)\n",
    "        return\n",
    "\n",
    "    if su[row][col] == 0:\n",
    "        for val in range(1, 10):\n",
    "            if is_safe(su, row, col, val):\n",
    "                su[row][col] = val\n",
    "                sudoku(su, row, col+1)\n",
    "                su[row][col] = 0\n",
    "            \n",
    "    else:\n",
    "        sudoku(su, row, col+1)"
   ]
  },
  {
   "cell_type": "code",
   "execution_count": 13,
   "metadata": {},
   "outputs": [],
   "source": [
    "def is_safe(su, row, col, val):\n",
    "    \n",
    "    for i in range(0, 9):\n",
    "        if su[row][i] == val:\n",
    "            return False\n",
    "    \n",
    "    for i in range(0, 9):\n",
    "        if su[i][col] == val:\n",
    "            return False\n",
    "    \n",
    "    row = row - (row%3)\n",
    "    col = col - (col%3)\n",
    "    \n",
    "    for i in range(0,3):\n",
    "        for j in range(0, 3):\n",
    "            if su[row+i][col+j] == val:\n",
    "                return False\n",
    "    \n",
    "    return True"
   ]
  },
  {
   "cell_type": "code",
   "execution_count": 14,
   "metadata": {},
   "outputs": [],
   "source": [
    "board = [[0, 9, 0, 0, 0, 0, 8, 5, 3 ],\n",
    "[0, 0, 0, 8, 0, 0, 0, 0, 4 ],\n",
    "[0, 0, 8, 2, 0, 3, 0, 6, 9 ],\n",
    "[5, 7, 4, 0, 0, 2, 0, 0, 0 ],\n",
    "[0, 0, 0, 0, 0, 0, 0, 0, 0 ],\n",
    "[0, 0, 0, 9, 0, 0, 6, 3, 7 ],\n",
    "[9, 4, 0, 1, 0, 8, 5, 0, 0 ],\n",
    "[7, 0, 0, 0, 0, 6, 0, 0, 0 ],\n",
    "[6, 8, 2, 0, 0, 0, 0, 9, 0 ]];"
   ]
  },
  {
   "cell_type": "code",
   "execution_count": 15,
   "metadata": {},
   "outputs": [
    {
     "data": {
      "text/plain": [
       "[[0, 9, 0, 0, 0, 0, 8, 5, 3],\n",
       " [0, 0, 0, 8, 0, 0, 0, 0, 4],\n",
       " [0, 0, 8, 2, 0, 3, 0, 6, 9],\n",
       " [5, 7, 4, 0, 0, 2, 0, 0, 0],\n",
       " [0, 0, 0, 0, 0, 0, 0, 0, 0],\n",
       " [0, 0, 0, 9, 0, 0, 6, 3, 7],\n",
       " [9, 4, 0, 1, 0, 8, 5, 0, 0],\n",
       " [7, 0, 0, 0, 0, 6, 0, 0, 0],\n",
       " [6, 8, 2, 0, 0, 0, 0, 9, 0]]"
      ]
     },
     "execution_count": 15,
     "metadata": {},
     "output_type": "execute_result"
    }
   ],
   "source": [
    "board"
   ]
  },
  {
   "cell_type": "code",
   "execution_count": 16,
   "metadata": {},
   "outputs": [
    {
     "name": "stdout",
     "output_type": "stream",
     "text": [
      "[2, 9, 7, 6, 1, 4, 8, 5, 3]\n",
      "[1, 3, 6, 8, 5, 9, 7, 2, 4]\n",
      "[4, 5, 8, 2, 7, 3, 1, 6, 9]\n",
      "[5, 7, 4, 3, 6, 2, 9, 1, 8]\n",
      "[3, 6, 9, 7, 8, 1, 2, 4, 5]\n",
      "[8, 2, 1, 9, 4, 5, 6, 3, 7]\n",
      "[9, 4, 3, 1, 2, 8, 5, 7, 6]\n",
      "[7, 1, 5, 4, 9, 6, 3, 8, 2]\n",
      "[6, 8, 2, 5, 3, 7, 4, 9, 1]\n"
     ]
    }
   ],
   "source": [
    "sudoku(board, 0, 0)"
   ]
  },
  {
   "cell_type": "code",
   "execution_count": null,
   "metadata": {},
   "outputs": [],
   "source": []
  },
  {
   "cell_type": "code",
   "execution_count": null,
   "metadata": {},
   "outputs": [],
   "source": []
  }
 ],
 "metadata": {
  "kernelspec": {
   "display_name": "Python 3",
   "language": "python",
   "name": "python3"
  },
  "language_info": {
   "codemirror_mode": {
    "name": "ipython",
    "version": 3
   },
   "file_extension": ".py",
   "mimetype": "text/x-python",
   "name": "python",
   "nbconvert_exporter": "python",
   "pygments_lexer": "ipython3",
   "version": "3.7.2"
  }
 },
 "nbformat": 4,
 "nbformat_minor": 2
}
